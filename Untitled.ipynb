{
 "cells": [
  {
   "cell_type": "code",
   "execution_count": null,
   "id": "a758bae8",
   "metadata": {},
   "outputs": [],
   "source": [
    "test = {\"input\":{\n",
    "                 \"cards\":[13, 11, 10, 7, 4, 3, 1, 0],\n",
    "                 \"query\":7},\n",
    "        \"output\":3\n",
    "        \n",
    "       }\n",
    "def cards_query(cards,query):\n",
    "    position = 0\n",
    "    while True:\n",
    "        if cards[position] == query:\n",
    "            return position\n",
    "        position += 1\n",
    "        \n",
    "        if position == len(cards):\n",
    "            return -1\n",
    "\n",
    "#print(test)\n",
    "#cards_query(**test['input']) == test['output']\n",
    "result = cards_query(test['input']['cards'], test['input']['query'])\n",
    "result == test[\"output\"]\n",
    "!pip install jovian --upgrade --quiet\n",
    "\n"
   ]
  },
  {
   "cell_type": "code",
   "execution_count": null,
   "id": "aa302626",
   "metadata": {},
   "outputs": [],
   "source": [
    "!pip install jovian --upgrade --quiet\n"
   ]
  },
  {
   "cell_type": "code",
   "execution_count": null,
   "id": "f417d393",
   "metadata": {},
   "outputs": [],
   "source": [
    "test = {\"input\":{\"cards\":[13,11,10,7,4,3,1,0],\n",
    "                \"query\":7},\n",
    "        \"output\":3\n",
    "       }\n",
    "test\n",
    "\n",
    "def cards_query(cards,query):\n",
    "    position = 0\n",
    "    while True:\n",
    "        if cards[position] == query:\n",
    "            return position\n",
    "    \n",
    "        position += 1\n",
    "    \n",
    "        if position == len(cards):\n",
    "            return -1\n",
    "        \n",
    "#result = cards_query(test[\"input\"][\"cards\"],test[\"input\"][\"query\"])\n",
    "\n",
    "#result = test[\"output\"]\n",
    " \n",
    "test[\"output\"] = cards_query(test['input']['cards'], test['input']['query'])\n",
    "\n",
    "cards_query(**test['input']) == test['output']"
   ]
  },
  {
   "cell_type": "code",
   "execution_count": null,
   "id": "ff91d465",
   "metadata": {},
   "outputs": [],
   "source": [
    "!pip install jovian --upgrade --quiet\n"
   ]
  },
  {
   "cell_type": "code",
   "execution_count": null,
   "id": "ec97e887",
   "metadata": {},
   "outputs": [],
   "source": [
    "from jovian.pythondsa import evaluate_test_case"
   ]
  },
  {
   "cell_type": "code",
   "execution_count": null,
   "id": "d0ccae8c",
   "metadata": {},
   "outputs": [],
   "source": [
    "print(\"abhishek\")"
   ]
  },
  {
   "cell_type": "code",
   "execution_count": null,
   "id": "575e0d5c",
   "metadata": {},
   "outputs": [],
   "source": []
  },
  {
   "cell_type": "code",
   "execution_count": null,
   "id": "2c98cbd7",
   "metadata": {},
   "outputs": [],
   "source": [
    "tests = []\n",
    "# query occurs in the middle\n",
    "tests.append(test)\n",
    "\n",
    "tests.append({\n",
    "    'input': {\n",
    "        'cards': [13, 11, 10, 7, 4, 3, 1, 0],\n",
    "        'query': 1\n",
    "    },\n",
    "    'output': 6\n",
    "})\n",
    "# query is the first element\n",
    "tests.append({\n",
    "    'input': {\n",
    "        'cards': [4, 2, 1, -1],\n",
    "        'query': 4\n",
    "    },\n",
    "    'output': 0\n",
    "})\n",
    "\n",
    "# query is the last element\n",
    "tests.append({\n",
    "    'input': {\n",
    "        'cards': [3, -1, -9, -127],\n",
    "        'query': -127\n",
    "    },\n",
    "    'output': 3\n",
    "})\n",
    "\n",
    "# cards contains just one element, query\n",
    "tests.append({\n",
    "    'input': {\n",
    "        'cards': [6],\n",
    "        'query': 6\n",
    "    },\n",
    "    'output': 0 \n",
    "})\n",
    "\n",
    "# cards does not contain query \n",
    "tests.append({\n",
    "    'input': {\n",
    "        'cards': [9, 7, 5, 2, -9],\n",
    "        'query': 4\n",
    "    },\n",
    "    'output': -1\n",
    "})\n",
    "\n",
    "# cards is empty\n",
    "tests.append({\n",
    "    'input': {\n",
    "        'cards': [],\n",
    "        'query': 7\n",
    "    },\n",
    "    'output': -1\n",
    "})\n",
    "\n",
    "# numbers can repeat in cards\n",
    "tests.append({\n",
    "    'input': {\n",
    "        'cards': [8, 8, 6, 6, 6, 6, 6, 3, 2, 2, 2, 0, 0, 0],\n",
    "        'query': 3\n",
    "    },\n",
    "    'output': 7\n",
    "})\n",
    "\n",
    "# query occurs multiple times\n",
    "tests.append({\n",
    "    'input': {\n",
    "        'cards': [8, 8, 6, 6, 6, 6, 6, 6, 3, 2, 2, 2, 0, 0, 0],\n",
    "        'query': 6\n",
    "    },\n",
    "    'output': 2\n",
    "})"
   ]
  },
  {
   "cell_type": "code",
   "execution_count": null,
   "id": "dec7c239",
   "metadata": {},
   "outputs": [],
   "source": [
    "evaluate_test_case(cards_query,test)"
   ]
  },
  {
   "cell_type": "code",
   "execution_count": null,
   "id": "99ab19fa",
   "metadata": {},
   "outputs": [],
   "source": [
    "from jovian.pythondsa import evaluate_test_cases"
   ]
  },
  {
   "cell_type": "code",
   "execution_count": null,
   "id": "c60ec042",
   "metadata": {},
   "outputs": [],
   "source": [
    "evaluate_test_case(cards_query,test)"
   ]
  },
  {
   "cell_type": "code",
   "execution_count": null,
   "id": "e65d66ca",
   "metadata": {},
   "outputs": [],
   "source": [
    "! pip install jovian"
   ]
  },
  {
   "cell_type": "code",
   "execution_count": null,
   "id": "51aa6b4c",
   "metadata": {},
   "outputs": [],
   "source": [
    "pip install jovian --upgrade --quiet"
   ]
  },
  {
   "cell_type": "code",
   "execution_count": null,
   "id": "3064ae22",
   "metadata": {},
   "outputs": [],
   "source": [
    "from jovian.pythondsa import evaluate_test_cases"
   ]
  },
  {
   "cell_type": "code",
   "execution_count": null,
   "id": "ef86394c",
   "metadata": {},
   "outputs": [
    {
     "data": {
      "application/javascript": [
       "window.require && require([\"base/js/namespace\"],function(Jupyter){Jupyter.notebook.save_checkpoint()})"
      ],
      "text/plain": [
       "<IPython.core.display.Javascript object>"
      ]
     },
     "metadata": {},
     "output_type": "display_data"
    }
   ],
   "source": [
    "jovian.commit()"
   ]
  },
  {
   "cell_type": "code",
   "execution_count": null,
   "id": "458985d3",
   "metadata": {},
   "outputs": [],
   "source": []
  }
 ],
 "metadata": {
  "language_info": {
   "codemirror_mode": {
    "name": "ipython",
    "version": 3
   },
   "file_extension": ".py",
   "mimetype": "text/x-python",
   "name": "python",
   "nbconvert_exporter": "python",
   "pygments_lexer": "ipython3",
   "version": "3.9.7"
  }
 },
 "nbformat": 4,
 "nbformat_minor": 5
}